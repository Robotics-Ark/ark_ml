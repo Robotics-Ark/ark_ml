{
 "cells": [
  {
   "cell_type": "markdown",
   "id": "ced5fc05",
   "metadata": {},
   "source": [
    "#### Note:\n",
    "\n",
    "Make sure that you have these two scripts running at the same time while running this\n",
    "\n",
    "ark regsitry start\n",
    "\n",
    "python sim_node.py"
   ]
  },
  {
   "cell_type": "code",
   "execution_count": 7,
   "id": "ad5f4a86",
   "metadata": {},
   "outputs": [
    {
     "name": "stderr",
     "output_type": "stream",
     "text": [
      "\u001b[93m[WARNING] [11:54:17.060568] - No global configuration provided. Using default system configuration.\u001b[0m\n",
      "\u001b[96m[INFO] [11:54:17.109674] - Service: Successfully registered '__DEFAULT_SERVICE/GetInfo/FrankaJointController_1a0bcfa2-a34f-4e5e-b403-e6868c9fe744' with registry.\u001b[0m\n",
      "\u001b[96m[INFO] [11:54:17.139916] - Service: Successfully registered '__DEFAULT_SERVICE/SuspendNode/FrankaJointController_1a0bcfa2-a34f-4e5e-b403-e6868c9fe744' with registry.\u001b[0m\n",
      "\u001b[96m[INFO] [11:54:17.163540] - Service: Successfully registered '__DEFAULT_SERVICE/RestartNode/FrankaJointController_1a0bcfa2-a34f-4e5e-b403-e6868c9fe744' with registry.\u001b[0m\n",
      "\u001b[91m[ERROR] [11:54:17.173760] - Couldn't load config for other 'FrankaJointController'\u001b[0m\n",
      "\u001b[92m\u001b[1m[OK] [11:54:17.177048] - setup publisher Franka/joint_group_command/sim[joint_group_command_t]\u001b[0m\n",
      "\u001b[92m\u001b[1m[OK] [11:54:17.179968] - setup publisher Franka/cartesian_command/sim[task_space_command_t]\u001b[0m\n",
      "\u001b[92m\u001b[1m[OK] [11:54:17.181656] - subscribed to Franka/joint_states/sim[joint_state_t]\u001b[0m\n"
     ]
    },
    {
     "name": "stdout",
     "output_type": "stream",
     "text": [
      "None\n"
     ]
    }
   ],
   "source": [
    "import numpy as np\n",
    "from arktypes import joint_group_command_t, task_space_command_t, joint_state_t\n",
    "from arktypes.utils import unpack, pack\n",
    "from ark.client.comm_infrastructure.instance_node import InstanceNode\n",
    "\n",
    "SIM = True\n",
    "\n",
    "class FrankaControllerNode(InstanceNode):\n",
    "\n",
    "    def __init__(self):\n",
    "        '''\n",
    "        Initialize the FrankaJointController.\n",
    "        This class is responsible for controlling the Franka robot's joints.\n",
    "        '''\n",
    "        super().__init__(\"FrankaJointController\")\n",
    "\n",
    "        if SIM == True:\n",
    "            self.joint_group_command = self.create_publisher(\"Franka/joint_group_command/sim\", joint_group_command_t)\n",
    "            self.task_space_command = self.create_publisher(\"Franka/cartesian_command/sim\", task_space_command_t)\n",
    "\n",
    "            self.state = self.create_listener(\"Franka/joint_states/sim\", joint_state_t)\n",
    "\n",
    "controller = FrankaControllerNode()"
   ]
  },
  {
   "cell_type": "markdown",
   "id": "7142c226",
   "metadata": {},
   "source": [
    "---"
   ]
  },
  {
   "cell_type": "markdown",
   "id": "e9f1afe2",
   "metadata": {},
   "source": [
    "# Joint Group Control"
   ]
  },
  {
   "cell_type": "code",
   "execution_count": 8,
   "id": "d86ec1f1",
   "metadata": {},
   "outputs": [],
   "source": [
    "joint_command = [-0.3, 0.1, 0.3, -1.4, 0.1, 1.8, 0.6, 0]\n",
    "# Position Control\n",
    "controller.joint_group_command.publish(pack.joint_group_command(joint_command, \"all\"))"
   ]
  },
  {
   "cell_type": "code",
   "execution_count": 10,
   "id": "65434399",
   "metadata": {},
   "outputs": [],
   "source": [
    "gripper_command = [-1] # -1 close, 1 open\n",
    "# Velocity Control \n",
    "controller.joint_group_command.publish(pack.joint_group_command(gripper_command, \"gripper\"))"
   ]
  },
  {
   "cell_type": "code",
   "execution_count": 11,
   "id": "df953d1a",
   "metadata": {},
   "outputs": [],
   "source": [
    "arm_command = [-0.3, 0.5, 0.3, -1.0, 0.1, 1.8, 0.1]\n",
    "# Position Control \n",
    "controller.joint_group_command.publish(pack.joint_group_command(arm_command, \"arm\"))"
   ]
  },
  {
   "cell_type": "markdown",
   "id": "7e0a44fc",
   "metadata": {},
   "source": [
    "---"
   ]
  },
  {
   "cell_type": "markdown",
   "id": "dd5a9751",
   "metadata": {},
   "source": [
    "# Task Space Control"
   ]
  },
  {
   "cell_type": "code",
   "execution_count": 30,
   "id": "1187b61d",
   "metadata": {},
   "outputs": [],
   "source": [
    "xyz_command = np.array([0.3, 0.4, 0.8])\n",
    "quaternion_command = np.array([1, 0.0, 0.0, 0.0]) # xyz-w\n",
    "gripper = 1.0 # 0.0 close, 1.0 open\n",
    "\n",
    "controller.task_space_command.publish(\n",
    "    pack.task_space_command(\"all\", xyz_command, quaternion_command, gripper))"
   ]
  },
  {
   "cell_type": "markdown",
   "id": "c7feafb1",
   "metadata": {},
   "source": [
    "---\n"
   ]
  },
  {
   "cell_type": "markdown",
   "id": "aa0d1111",
   "metadata": {},
   "source": [
    "# Joint States"
   ]
  },
  {
   "cell_type": "code",
   "execution_count": 26,
   "id": "5dde03a7",
   "metadata": {},
   "outputs": [
    {
     "data": {
      "text/plain": [
       "({'seq': 0, 'stamp': {'sec': 0, 'nsec': 0}, 'frame_id': ''},\n",
       " ['panda_joint1',\n",
       "  'panda_joint2',\n",
       "  'panda_joint3',\n",
       "  'panda_joint4',\n",
       "  'panda_joint5',\n",
       "  'panda_joint6',\n",
       "  'panda_joint7',\n",
       "  'panda_finger_joint1',\n",
       "  'panda_finger_joint2'],\n",
       " array([ 3.32046132e-01, -2.17307877e-01,  5.52577220e-01, -2.11408249e+00,\n",
       "         1.20972593e-01,  1.92591533e+00,  8.31678377e-01, -1.00911550e-21,\n",
       "         3.80750550e-08]),\n",
       " array([0., 0., 0., 0., 0., 0., 0., 0., 0.]),\n",
       " array([0., 0., 0., 0., 0., 0., 0., 0., 0.]))"
      ]
     },
     "execution_count": 26,
     "metadata": {},
     "output_type": "execute_result"
    }
   ],
   "source": [
    "unpack.joint_state(controller.state.get())"
   ]
  }
 ],
 "metadata": {
  "kernelspec": {
   "display_name": "ark_env",
   "language": "python",
   "name": "python3"
  },
  "language_info": {
   "codemirror_mode": {
    "name": "ipython",
    "version": 3
   },
   "file_extension": ".py",
   "mimetype": "text/x-python",
   "name": "python",
   "nbconvert_exporter": "python",
   "pygments_lexer": "ipython3",
   "version": "3.11.13"
  }
 },
 "nbformat": 4,
 "nbformat_minor": 5
}
